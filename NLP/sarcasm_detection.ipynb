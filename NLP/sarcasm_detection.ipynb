{
 "cells": [
  {
   "cell_type": "markdown",
   "metadata": {},
   "source": [
    "## Sarcasm detection model using tensorflow"
   ]
  },
  {
   "cell_type": "code",
   "execution_count": 10,
   "metadata": {},
   "outputs": [],
   "source": [
    "import json"
   ]
  },
  {
   "cell_type": "code",
   "execution_count": 11,
   "metadata": {},
   "outputs": [],
   "source": [
    "# def fix_json_format(input_file, output_file):\n",
    "#     \"\"\"\n",
    "#     Reads a JSON file with each object on a separate line and writes it to a new file in the correct format.\n",
    "\n",
    "#     Args:\n",
    "#         input_file: The path to the input JSON file.\n",
    "#         output_file: The path to the output JSON file.\n",
    "#     \"\"\"\n",
    "\n",
    "#     data = []\n",
    "#     with open(input_file, 'r') as f:\n",
    "#         for line in f:\n",
    "#             data.append(json.loads(line))\n",
    "\n",
    "#     with open(output_file, 'w') as f:\n",
    "#         json.dump(data, f, indent=4)\n",
    "\n",
    "# # Example usage:\n",
    "# input_file = '../../data/Sarcasm_Headlines_Dataset.json'\n",
    "# output_file = '../../data/correct_sarcasm.json'\n",
    "# fix_json_format(input_file, output_file)\n",
    "\n",
    "with open('../../data/correct_sarcasm.json', 'r') as f:\n",
    "    data = json.load(f)\n",
    "\n",
    "sentences = []\n",
    "labels = []\n",
    "urls = []\n",
    "for item in data:\n",
    "    sentences.append(item['headline'])\n",
    "    labels.append(item['is_sarcastic'])\n",
    "    urls.append(item['article_link'])"
   ]
  },
  {
   "cell_type": "code",
   "execution_count": 12,
   "metadata": {},
   "outputs": [],
   "source": [
    "# splitting the dataset\n",
    "\n",
    "training_size = 0.8\n",
    "\n",
    "training_sentences = sentences[0:int(training_size * len(sentences))]\n",
    "testing_sentences = sentences[int(training_size * len(sentences)):]\n",
    "\n",
    "training_labels = labels[0:int(training_size * len(labels))]\n",
    "testing_labels = labels[int(training_size * len(labels)):]"
   ]
  },
  {
   "cell_type": "code",
   "execution_count": 13,
   "metadata": {},
   "outputs": [],
   "source": [
    "from tensorflow.keras.preprocessing.text import Tokenizer\n",
    "from tensorflow.keras.preprocessing.sequence import pad_sequences\n",
    "from tensorflow.keras.models import Sequential\n",
    "from tensorflow.keras.layers import Embedding, GlobalAveragePooling1D, Dense\n",
    "from tensorflow.keras.optimizers import Adam\n",
    "from sklearn.metrics import accuracy_score, classification_report\n"
   ]
  },
  {
   "cell_type": "markdown",
   "metadata": {},
   "source": [
    "#### Tokenizing the text data"
   ]
  },
  {
   "cell_type": "code",
   "execution_count": 14,
   "metadata": {},
   "outputs": [],
   "source": [
    "max_vocab_size = 10000  # Maximum number of words in the vocabulary\n",
    "max_sequence_length = 40  # Maximum length of each sentence\n",
    "\n",
    "tokenizer = Tokenizer(num_words=max_vocab_size, oov_token=\"<OOV>\")\n",
    "tokenizer.fit_on_texts(training_sentences)\n"
   ]
  },
  {
   "cell_type": "markdown",
   "metadata": {},
   "source": [
    "#### Converting sentences to sequences"
   ]
  },
  {
   "cell_type": "code",
   "execution_count": 15,
   "metadata": {},
   "outputs": [],
   "source": [
    "training_sequences = tokenizer.texts_to_sequences(training_sentences)\n",
    "testing_sequences = tokenizer.texts_to_sequences(testing_sentences)"
   ]
  },
  {
   "cell_type": "markdown",
   "metadata": {},
   "source": [
    "#### Padding sequences to ensure equal length"
   ]
  },
  {
   "cell_type": "code",
   "execution_count": 18,
   "metadata": {},
   "outputs": [],
   "source": [
    "training_padded = pad_sequences(training_sequences, maxlen=max_sequence_length, padding='post', truncating='post')\n",
    "testing_padded = pad_sequences(testing_sequences, maxlen=max_sequence_length, padding='post', truncating='post')"
   ]
  },
  {
   "cell_type": "markdown",
   "metadata": {},
   "source": [
    "#### **Building the model**"
   ]
  },
  {
   "cell_type": "code",
   "execution_count": 19,
   "metadata": {},
   "outputs": [],
   "source": [
    "model = Sequential([\n",
    "    Embedding(input_dim=max_vocab_size, output_dim=16, input_length=max_sequence_length),\n",
    "    GlobalAveragePooling1D(),\n",
    "    Dense(16, activation='relu'),\n",
    "    Dense(1, activation='sigmoid')\n",
    "])"
   ]
  },
  {
   "cell_type": "markdown",
   "metadata": {},
   "source": [
    "#### Compiling the model"
   ]
  },
  {
   "cell_type": "code",
   "execution_count": 20,
   "metadata": {},
   "outputs": [],
   "source": [
    "model.compile(optimizer=Adam(), loss='binary_crossentropy', metrics=['accuracy'])"
   ]
  },
  {
   "cell_type": "markdown",
   "metadata": {},
   "source": [
    "#### Convert labels to NumPy arrays"
   ]
  },
  {
   "cell_type": "code",
   "execution_count": 22,
   "metadata": {},
   "outputs": [],
   "source": [
    "import numpy as np\n",
    "training_labels = np.array(training_labels)\n",
    "testing_labels = np.array(testing_labels)"
   ]
  },
  {
   "cell_type": "markdown",
   "metadata": {},
   "source": [
    "#### Training the model"
   ]
  },
  {
   "cell_type": "code",
   "execution_count": 23,
   "metadata": {},
   "outputs": [
    {
     "name": "stdout",
     "output_type": "stream",
     "text": [
      "Epoch 1/10\n",
      "668/668 [==============================] - 3s 2ms/step - loss: 0.6075 - accuracy: 0.6513 - val_loss: 0.4234 - val_accuracy: 0.8272\n",
      "Epoch 2/10\n",
      "668/668 [==============================] - 1s 2ms/step - loss: 0.3320 - accuracy: 0.8676 - val_loss: 0.3482 - val_accuracy: 0.8568\n",
      "Epoch 3/10\n",
      "668/668 [==============================] - 2s 2ms/step - loss: 0.2510 - accuracy: 0.9027 - val_loss: 0.3439 - val_accuracy: 0.8570\n",
      "Epoch 4/10\n",
      "668/668 [==============================] - 1s 2ms/step - loss: 0.2058 - accuracy: 0.9217 - val_loss: 0.3545 - val_accuracy: 0.8545\n",
      "Epoch 5/10\n",
      "668/668 [==============================] - 2s 2ms/step - loss: 0.1745 - accuracy: 0.9348 - val_loss: 0.3757 - val_accuracy: 0.8516\n",
      "Epoch 6/10\n",
      "668/668 [==============================] - 1s 2ms/step - loss: 0.1503 - accuracy: 0.9437 - val_loss: 0.4069 - val_accuracy: 0.8480\n",
      "Epoch 7/10\n",
      "668/668 [==============================] - 1s 2ms/step - loss: 0.1318 - accuracy: 0.9524 - val_loss: 0.4349 - val_accuracy: 0.8471\n",
      "Epoch 8/10\n",
      "668/668 [==============================] - 1s 2ms/step - loss: 0.1157 - accuracy: 0.9591 - val_loss: 0.4714 - val_accuracy: 0.8433\n",
      "Epoch 9/10\n",
      "668/668 [==============================] - 2s 2ms/step - loss: 0.1026 - accuracy: 0.9649 - val_loss: 0.5187 - val_accuracy: 0.8368\n",
      "Epoch 10/10\n",
      "668/668 [==============================] - 1s 2ms/step - loss: 0.0926 - accuracy: 0.9691 - val_loss: 0.5527 - val_accuracy: 0.8381\n"
     ]
    }
   ],
   "source": [
    "history = model.fit(training_padded, \n",
    "                    training_labels, \n",
    "                    epochs=10, \n",
    "                    batch_size=32, \n",
    "                    validation_data=(testing_padded, testing_labels)\n",
    "                    )"
   ]
  },
  {
   "cell_type": "code",
   "execution_count": 24,
   "metadata": {},
   "outputs": [
    {
     "name": "stdout",
     "output_type": "stream",
     "text": [
      "167/167 [==============================] - 0s 986us/step - loss: 0.5527 - accuracy: 0.8381\n",
      "Test Accuracy: 0.8381\n"
     ]
    }
   ],
   "source": [
    "# Evaluating the model\n",
    "loss, accuracy = model.evaluate(testing_padded, testing_labels)\n",
    "print(f\"Test Accuracy: {accuracy:.4f}\")"
   ]
  },
  {
   "cell_type": "code",
   "execution_count": 25,
   "metadata": {},
   "outputs": [
    {
     "name": "stdout",
     "output_type": "stream",
     "text": [
      "167/167 [==============================] - 0s 947us/step\n"
     ]
    }
   ],
   "source": [
    "# Make predictions on the test data\n",
    "predictions = model.predict(testing_padded)\n",
    "predictions = (predictions > 0.5).astype(int)  # Converting to binary output"
   ]
  },
  {
   "cell_type": "code",
   "execution_count": 26,
   "metadata": {},
   "outputs": [
    {
     "name": "stdout",
     "output_type": "stream",
     "text": [
      "\n",
      "Classification Report:\n",
      "              precision    recall  f1-score   support\n",
      "\n",
      "           0       0.85      0.87      0.86      3034\n",
      "           1       0.82      0.80      0.81      2308\n",
      "\n",
      "    accuracy                           0.84      5342\n",
      "   macro avg       0.84      0.83      0.83      5342\n",
      "weighted avg       0.84      0.84      0.84      5342\n",
      "\n"
     ]
    }
   ],
   "source": [
    "# Print classification report\n",
    "print(\"\\nClassification Report:\")\n",
    "print(classification_report(testing_labels, predictions))"
   ]
  },
  {
   "cell_type": "code",
   "execution_count": 27,
   "metadata": {},
   "outputs": [],
   "source": [
    "# Optionally, plot training/validation accuracy and loss\n",
    "import matplotlib.pyplot as plt"
   ]
  },
  {
   "cell_type": "code",
   "execution_count": 28,
   "metadata": {},
   "outputs": [
    {
     "data": {
      "text/plain": [
       "<matplotlib.legend.Legend at 0x1b4ed56f090>"
      ]
     },
     "execution_count": 28,
     "metadata": {},
     "output_type": "execute_result"
    },
    {
     "data": {
      "image/png": "[encoded data removed]",
      "text/plain": [
       "<Figure size 1200x400 with 1 Axes>"
      ]
     },
     "metadata": {},
     "output_type": "display_data"
    }
   ],
   "source": [
    "plt.figure(figsize=(12, 4))\n",
    "\n",
    "# Plot accuracy\n",
    "plt.subplot(1, 2, 1)\n",
    "plt.plot(history.history['accuracy'], label='Training Accuracy')\n",
    "plt.plot(history.history['val_accuracy'], label='Validation Accuracy')\n",
    "plt.title('Accuracy')\n",
    "plt.xlabel('Epochs')\n",
    "plt.ylabel('Accuracy')\n",
    "plt.legend()"
   ]
  },
  {
   "cell_type": "code",
   "execution_count": 29,
   "metadata": {},
   "outputs": [
    {
     "data": {
      "image/png": "[encoded data removed]",
      "text/plain": [
       "<Figure size 640x480 with 1 Axes>"
      ]
     },
     "metadata": {},
     "output_type": "display_data"
    }
   ],
   "source": [
    "# Plot loss\n",
    "plt.subplot(1, 2, 2)\n",
    "plt.plot(history.history['loss'], label='Training Loss')\n",
    "plt.plot(history.history['val_loss'], label='Validation Loss')\n",
    "plt.title('Loss')\n",
    "plt.xlabel('Epochs')\n",
    "plt.ylabel('Loss')\n",
    "plt.legend()\n",
    "\n",
    "plt.tight_layout()\n",
    "plt.show()"
   ]
  }
 ],
 "metadata": {
  "kernelspec": {
   "display_name": "Python 3",
   "language": "python",
   "name": "python3"
  },
  "language_info": {
   "codemirror_mode": {
    "name": "ipython",
    "version": 3
   },
   "file_extension": ".py",
   "mimetype": "text/x-python",
   "name": "python",
   "nbconvert_exporter": "python",
   "pygments_lexer": "ipython3",
   "version": "3.11.4"
  }
 },
 "nbformat": 4,
 "nbformat_minor": 2
}
