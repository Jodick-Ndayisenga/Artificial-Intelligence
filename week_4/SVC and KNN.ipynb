{
 "cells": [
  {
   "cell_type": "markdown",
   "metadata": {},
   "source": [
    "# Week 4: Support Vector Machines and K-Nearest Neighbors\n",
    "\n",
    "This week, we’ll dive into two popular supervised learning algorithms: **Support Vector Machines (SVM)** and **K-Nearest Neighbors (KNN)**. Both algorithms are frequently used for classification tasks, but they approach the problem of categorizing data in fundamentally different ways.\n",
    "\n",
    "---\n",
    "\n",
    "## Topics\n",
    "- Introduction to Support Vector Machines (SVM) and K-Nearest Neighbors (KNN)\n",
    "\n",
    "---\n",
    "\n",
    "## Theory and Concepts\n",
    "\n",
    "### 1. Support Vector Machines (SVM)\n",
    "\n",
    "**Support Vector Machines (SVM)** is a supervised learning algorithm that classifies data by identifying the hyperplane that best separates different classes. Its main goal is to maximize the \"margin\" between classes, ensuring that data points are as far as possible from the decision boundary, reducing classification errors.\n",
    "\n",
    "- **Maximal Margin Classifier**:\n",
    "  - The **margin** is defined as the distance between the hyperplane (decision boundary) and the nearest data point from any class.\n",
    "  - SVM attempts to find the hyperplane that maximizes this margin to reduce the likelihood of misclassification.\n",
    "  \n",
    "- **Support Vectors**:\n",
    "  - **Support vectors** are the data points that lie closest to the decision boundary or hyperplane. These are the critical points in determining the optimal position and orientation of the hyperplane.\n",
    "  - Only the support vectors affect the margin and decision boundary, making SVM robust against outliers.\n",
    "\n",
    "- **Kernel Functions**:\n",
    "  - SVM can be extended to classify non-linear data by using **kernel functions**. Kernels map data into a higher-dimensional space where it becomes linearly separable.\n",
    "  - Common kernels include:\n",
    "    - **Linear Kernel**: Suitable for linearly separable data.\n",
    "    - **Polynomial Kernel**: Useful when the relationships between features are polynomial in nature.\n",
    "    - **Radial Basis Function (RBF) or Gaussian Kernel**: Effective for complex, non-linear data with localized clusters.\n",
    "\n",
    "#### Example: Classifying Spam Emails\n",
    "Imagine classifying emails as \"spam\" or \"not spam\" based on the frequency of specific words. SVM would find the optimal boundary in feature space to separate these two classes by identifying the most relevant \"support vectors.\" These support vectors would help define the boundary that best separates \"spam\" from \"not spam.\"\n",
    "\n",
    "---\n",
    "\n",
    "### 2. K-Nearest Neighbors (KNN)\n",
    "\n",
    "**K-Nearest Neighbors (KNN)** is an instance-based learning algorithm that classifies new data points based on the majority class among their **k** nearest neighbors in the feature space.\n",
    "\n",
    "- **Distance Metrics**:\n",
    "  - **Distance metrics** are used to determine which points are closest to each other in the feature space. Common metrics include:\n",
    "    - **Euclidean Distance**: Measures straight-line distance between two points.\n",
    "    - **Manhattan Distance**: Measures distance along the axes of the feature space.\n",
    "  \n",
    "- **Choosing the Optimal k**:\n",
    "  - The **k** value represents the number of neighbors to consider for classification. Choosing an optimal **k** is crucial:\n",
    "    - Small values of **k** make the model sensitive to noise.\n",
    "    - Large values can cause the model to overlook local patterns.\n",
    "  - **Cross-validation** is typically used to identify the best value for **k**.\n",
    "\n",
    "- **Weighted Voting**:\n",
    "  - In some cases, KNN assigns weights to neighbors based on their proximity to the new data point, giving more influence to closer points in determining the final class label.\n",
    "\n",
    "#### Example: Predicting Movie Genres\n",
    "Imagine a system where a new movie's genre is predicted based on features such as keywords, plot length, and actors. KNN would look at a set number of similar movies to classify this new movie. If most of its neighbors belong to the \"Action\" genre, it’s likely that this new movie will also be classified as \"Action.\"\n",
    "\n",
    "---\n",
    "\n",
    "By the end of this week, you'll gain a deep understanding of the theoretical and practical aspects of SVM and KNN, including their core concepts and key parameters. This foundation will enable you to apply these algorithms to real-world datasets and understand the differences in their performance and usage."
   ]
  },
  {
   "cell_type": "code",
   "execution_count": 1,
   "metadata": {},
   "outputs": [],
   "source": [
    "from sklearn import datasets\n",
    "from sklearn.model_selection import train_test_split\n",
    "from sklearn.svm import SVC\n",
    "from sklearn.metrics import accuracy_score\n",
    "\n",
    "# Load dataset\n",
    "iris = datasets.load_iris()\n"
   ]
  },
  {
   "cell_type": "code",
   "execution_count": 4,
   "metadata": {},
   "outputs": [
    {
     "name": "stdout",
     "output_type": "stream",
     "text": [
      "SVM Accuracy: 1.0\n"
     ]
    }
   ],
   "source": [
    "X, y = iris.data, iris.target\n",
    "\n",
    "# Split data\n",
    "X_train, X_test, y_train, y_test = train_test_split(X, y, test_size=0.3, random_state=42)\n",
    "\n",
    "# Create and train SVM with RBF kernel\n",
    "model = SVC(kernel='rbf')\n",
    "model.fit(X_train, y_train)\n",
    "\n",
    "# Make predictions\n",
    "y_pred = model.predict(X_test)\n",
    "accuracy = accuracy_score(y_test, y_pred)\n",
    "print(\"SVM Accuracy:\", accuracy)"
   ]
  },
  {
   "cell_type": "markdown",
   "metadata": {},
   "source": [
    "### Activities\n",
    "#### 1. Build a Simple KNN Classifier from Scratch\n",
    "\n",
    "For this activity, create a KNN function without using a library. Implement a simple function to classify points based on the labels of k nearest neighbors."
   ]
  },
  {
   "cell_type": "code",
   "execution_count": 5,
   "metadata": {},
   "outputs": [
    {
     "name": "stdout",
     "output_type": "stream",
     "text": [
      "Predicted labels: [0 1]\n"
     ]
    }
   ],
   "source": [
    "import numpy as np\n",
    "from collections import Counter\n",
    "\n",
    "def knn_predict(X_train, y_train, X_test, k=3):\n",
    "    y_pred = []\n",
    "    for test_point in X_test:\n",
    "        # Calculate Euclidean distance\n",
    "        distances = np.sqrt(((X_train - test_point) ** 2).sum(axis=1))\n",
    "        # Get nearest neighbors\n",
    "        nearest_neighbors = np.argsort(distances)[:k]\n",
    "        # Get labels of nearest neighbors\n",
    "        nearest_labels = [y_train[i] for i in nearest_neighbors]\n",
    "        # Voting\n",
    "        majority_vote = Counter(nearest_labels).most_common(1)[0][0]\n",
    "        y_pred.append(majority_vote)\n",
    "    return np.array(y_pred)\n",
    "\n",
    "# Test with a small dataset\n",
    "X_train = np.array([[1, 2], [2, 3], [3, 3], [5, 4], [6, 5]])\n",
    "y_train = np.array([0, 0, 0, 1, 1])\n",
    "X_test = np.array([[1, 2], [5, 3]])\n",
    "\n",
    "predictions = knn_predict(X_train, y_train, X_test, k=3)\n",
    "print(\"Predicted labels:\", predictions)\n"
   ]
  }
 ],
 "metadata": {
  "kernelspec": {
   "display_name": "Python 3",
   "language": "python",
   "name": "python3"
  },
  "language_info": {
   "codemirror_mode": {
    "name": "ipython",
    "version": 3
   },
   "file_extension": ".py",
   "mimetype": "text/x-python",
   "name": "python",
   "nbconvert_exporter": "python",
   "pygments_lexer": "ipython3",
   "version": "3.11.4"
  }
 },
 "nbformat": 4,
 "nbformat_minor": 2
}
